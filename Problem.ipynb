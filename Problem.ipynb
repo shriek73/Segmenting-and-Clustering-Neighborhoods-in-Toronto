{
    "cells": [
        {
            "metadata": {
                "collapsed": true
            },
            "cell_type": "code",
            "source": "##Bussiness Problem",
            "execution_count": null,
            "outputs": []
        },
        {
            "metadata": {},
            "cell_type": "code",
            "source": "\n\nToronto is one of the most populous cities in North America. And it is home to many migrants from all over the world. Immigration from past few decades has changed the demography of Toronto completely. Now there are many restaurants and shopping complexes all over the city. Also due to this Toronto also gets an excellent Tourist attention every year independent of the quarters of the year. The city is a major center for banking and finance, retailing, world trade, transportation, tourism, real estate, new media, traditional media, advertising, legal services, accountancy, insurance, theater, fashion, and the arts in the Canada.\n\nAll these factors contribute towards making the market of Toronto highly competitive. So any person or any organization which is looking to invest here needs to analyze the locality of Toronto completely. The insights derived from analysis will give good understanding of the business environment which help in strategically targeting the market. This will help in reduction of risk. And the Return on Investment will be reasonable.\n",
            "execution_count": null,
            "outputs": []
        }
    ],
    "metadata": {
        "kernelspec": {
            "name": "python3",
            "display_name": "Python 3.6",
            "language": "python"
        },
        "language_info": {
            "name": "python",
            "version": "3.6.9",
            "mimetype": "text/x-python",
            "codemirror_mode": {
                "name": "ipython",
                "version": 3
            },
            "pygments_lexer": "ipython3",
            "nbconvert_exporter": "python",
            "file_extension": ".py"
        }
    },
    "nbformat": 4,
    "nbformat_minor": 1
}